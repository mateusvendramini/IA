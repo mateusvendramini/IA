{
 "cells": [
  {
   "cell_type": "markdown",
   "id": "c0dfaf71",
   "metadata": {},
   "source": [
    "# Introdução\n",
    "\n",
    "O objetivo deste trabalho é gerar um classificador knn para a base de dados [adult](https://archive.ics.uci.edu/dataset/2/adult). Esta base de dados contém os dados do censo americado de 1998 e \n",
    "Para isto vamos ler os dados, tratar inconsistências, definir atributos mais relevantes, definir os hiperparâmetros com validação cruzada e avaliar o desempenho do classificador\n",
    "\n",
    "## Importando bibliotecas e lendo base de dados"
   ]
  },
  {
   "cell_type": "code",
   "execution_count": 2,
   "id": "d9d1a56d",
   "metadata": {},
   "outputs": [],
   "source": [
    "import os; import numpy as np; import pandas as pd; import seaborn as sns; import matplotlib.pyplot as plt; from sklearn.neighbors import KNeighborsClassifier; from sklearn import preprocessing; import scipy.stats as stats\n",
    "import warnings\n",
    "warnings.simplefilter(action='ignore', category=FutureWarning) #disable warnings to clean notebook\n",
    "prop_cycle = plt.rcParams['axes.prop_cycle']; colors = prop_cycle.by_key()['color']; CURRENT_DIR = os.path.abspath(os.path.dirname(__name__))\n",
    "DATA_DIR = os.path.join(CURRENT_DIR, 'data'); TRAIN_DATA_FILE = os.path.join(DATA_DIR, 'adult.data'); TEST_DATA_FILE = os.path.join(DATA_DIR, 'adult.test'); from collections import OrderedDict\n",
    "data_types = OrderedDict([\n",
    "    (\"age\", \"int\"), (\"workclass\", \"category\"), (\"final_weight\", \"int\"),  # originally it was called fnlwgt\n",
    "    (\"education\", \"category\"), (\"education_num\", \"int\"), (\"marital_status\", \"category\"),\n",
    "    (\"occupation\", \"category\"),(\"relationship\", \"category\"),(\"race\", \"category\"),\n",
    "    (\"sex\", \"category\"),(\"capital_gain\", \"float\"),  # required because of NaN values\n",
    "    (\"capital_loss\", \"int\"),(\"hours_per_week\", \"int\"),\n",
    "    (\"native_country\", \"category\"),(\"income_class\", \"category\"),\n",
    "])\n",
    "target_column = \"income_class\"\n",
    "def read_dataset(path):\n",
    "    data = pd.read_csv(\n",
    "        path,\n",
    "        names=data_types,\n",
    "        index_col=None,\n",
    "        dtype=data_types,\n",
    "        comment='|',  \n",
    "        skipinitialspace=True\n",
    "    )\n",
    "    return data\n",
    "train_data = read_dataset(TRAIN_DATA_FILE)\n",
    "test_data = read_dataset(TEST_DATA_FILE)\n",
    "data = pd.concat([test_data, train_data])\n",
    "(data.describe(include='all'));"
   ]
  },
  {
   "cell_type": "markdown",
   "id": "814d3473",
   "metadata": {},
   "source": [
    "\n",
    "# Pré-processamento\n",
    "## Remoção de inconsistências\n",
    "Vemos de cara que algumas classes estão com valores inconsistencias. Por exemplo a classe alvo 'income_class' tem 4 valores quando na verdade deveriam ter apenas 2.\n"
   ]
  },
  {
   "cell_type": "code",
   "execution_count": 3,
   "id": "db760eb9",
   "metadata": {},
   "outputs": [],
   "source": [
    "data.income_class.value_counts();"
   ]
  },
  {
   "cell_type": "markdown",
   "id": "2173d24e",
   "metadata": {},
   "source": [
    "Observando o value_counts vemos que isto se deve a um '.' adicional em uma das categorias.\n",
    "Deve ser limpado:"
   ]
  },
  {
   "cell_type": "code",
   "execution_count": 4,
   "id": "02ebdc87",
   "metadata": {},
   "outputs": [],
   "source": [
    "data['income_class'] = data.income_class.str.rstrip('.').astype('category');"
   ]
  },
  {
   "cell_type": "markdown",
   "id": "6c431153",
   "metadata": {},
   "source": [
    "Também notamos que algumas categorias numéricas tem valores '9' de forma muito frequente o que pode indicar um placeholder para valores faltantes nestas categorias.\n",
    "Observando a frequência dos 5 valores mais comuns de 'capital_gain' e 'hours_per_week'"
   ]
  },
  {
   "cell_type": "code",
   "execution_count": 5,
   "id": "70578aef",
   "metadata": {},
   "outputs": [
    {
     "data": {
      "text/plain": [
       "hours_per_week\n",
       "99    137\n",
       "98     14\n",
       "97      2\n",
       "Name: count, dtype: int64"
      ]
     },
     "execution_count": 5,
     "metadata": {},
     "output_type": "execute_result"
    }
   ],
   "source": [
    "import heapq\n",
    "hours_per_week_counts = data.hours_per_week.value_counts()\n",
    "data.hours_per_week.value_counts()[hours_per_week_counts.index.isin(heapq.nlargest(3, data.hours_per_week.unique()))]"
   ]
  },
  {
   "cell_type": "code",
   "execution_count": 6,
   "id": "51b8d604",
   "metadata": {},
   "outputs": [
    {
     "data": {
      "text/plain": [
       "capital_gain\n",
       "99999.0    244\n",
       "34095.0      6\n",
       "41310.0      3\n",
       "Name: count, dtype: int64"
      ]
     },
     "execution_count": 6,
     "metadata": {},
     "output_type": "execute_result"
    }
   ],
   "source": [
    "import heapq\n",
    "capital_gain_counts = data.capital_gain.value_counts()\n",
    "data.capital_gain.value_counts()[capital_gain_counts.index.isin(heapq.nlargest(3, data.capital_gain.unique()))]"
   ]
  },
  {
   "cell_type": "markdown",
   "id": "ac1c7a2f",
   "metadata": {},
   "source": [
    "Como esperado vemos que estes valores estão muito mais frequentes que suas redondezas, indicando que devem ser removidos.\n",
    "Para isto vamos substituí-los pela média destas colunas já excluindo estes valores."
   ]
  },
  {
   "cell_type": "code",
   "execution_count": 7,
   "id": "0a56177b",
   "metadata": {},
   "outputs": [],
   "source": [
    "capital_mean = np.mean(data.capital_gain[data.capital_gain != 99999])\n",
    "data['capital_gain'] = data['capital_gain'].replace(99999, capital_mean)\n",
    "hours_per_week_mean = np.mean(data.hours_per_week[data.hours_per_week != 99])\n",
    "data['hours_per_week'] = data['hours_per_week'].replace(99, hours_per_week_mean)"
   ]
  },
  {
   "cell_type": "markdown",
   "id": "c37e1a11",
   "metadata": {},
   "source": [
    "## Dados faltantes\n",
    "Observando os dados vemos que as colunas 'workclass', 'occupation' e 'native_country' tem dados faltantes indicados por '?'. Nestas categorias vamos substituir os valores faltantes pelos mais frequentes nestas classes."
   ]
  },
  {
   "cell_type": "markdown",
   "id": "732700a2",
   "metadata": {},
   "source": [
    "## Avaliação de Classes Correlacionadas\n",
    "\n",
    "Observando as colunas é imediato que algumas classes devem ter grande correlação entre si. Por exemplo: é de se esperar uma correlação grande entre 'relationship' e 'marital_status', 'education' e 'education_num'.\n",
    "Para garantir que não estamos introduzindo nenhum viés adicional a base de dados vamos avaliar a correlação entre estas colunas.\n",
    "Para avaliar a correlação entre duas categorias vamos utilizar a métrica 'Cramers V'."
   ]
  },
  {
   "cell_type": "code",
   "execution_count": 8,
   "id": "4a0da0fd",
   "metadata": {},
   "outputs": [
    {
     "data": {
      "text/plain": [
       "np.float64(0.4880589431633566)"
      ]
     },
     "execution_count": 8,
     "metadata": {},
     "output_type": "execute_result"
    }
   ],
   "source": [
    "def cramers_v(confusion_matrix):\n",
    "    \"\"\" calculate Cramers V statistic for categorial-categorial association. uses correction from Bergsma and Wicher, Journal of the Korean Statistical Society 42 (2013): 323-328\n",
    "    \"\"\"\n",
    "    chi2 = stats.chi2_contingency(confusion_matrix)[0]\n",
    "    n = confusion_matrix.sum()\n",
    "    n = n.sum()\n",
    "    phi2 = chi2 / n\n",
    "    r, k = confusion_matrix.shape\n",
    "    phi2corr = max(0, phi2 - ((k-1)*(r-1))/(n-1))\n",
    "    rcorr = r - ((r - 1) ** 2) / (n - 1)\n",
    "    kcorr = k - ((k - 1) ** 2) / (n - 1)\n",
    "    return np.sqrt(phi2corr / min((kcorr - 1), (rcorr - 1)))\n",
    "\n",
    "confusion_matrix = pd.crosstab(data['marital_status'], data['relationship'])\n",
    "cramers_v(confusion_matrix=confusion_matrix)"
   ]
  },
  {
   "cell_type": "code",
   "execution_count": 9,
   "id": "dae92d93",
   "metadata": {},
   "outputs": [
    {
     "data": {
      "text/plain": [
       "np.float64(0.3997244048209072)"
      ]
     },
     "execution_count": 9,
     "metadata": {},
     "output_type": "execute_result"
    }
   ],
   "source": [
    "confusion_matrix = pd.crosstab(data['workclass'], data['occupation'])\n",
    "cramers_v(confusion_matrix)"
   ]
  },
  {
   "cell_type": "markdown",
   "id": "35a1a583",
   "metadata": {},
   "source": [
    "Para avaliar a correlação entre 'education' e 'education_num' vamos utilizar a correlação biserial e utilizar uma serialização por LabelEncoder para  'education' apenas para verificar a correlação."
   ]
  },
  {
   "cell_type": "code",
   "execution_count": 10,
   "id": "9eacf34c",
   "metadata": {},
   "outputs": [
    {
     "data": {
      "text/plain": [
       "SignificanceResult(statistic=np.float64(0.3596676843392162), pvalue=np.float64(0.0))"
      ]
     },
     "execution_count": 10,
     "metadata": {},
     "output_type": "execute_result"
    }
   ],
   "source": [
    "le = preprocessing.LabelEncoder()\n",
    "education = le.fit_transform(data.education)\n",
    "stats.pointbiserialr(education, data.education_num)"
   ]
  },
  {
   "cell_type": "markdown",
   "id": "94c8cd92",
   "metadata": {},
   "source": [
    "Desta forma, vemos que há uma alta covariância entre estas colunas.\n",
    "\n",
    "Para simplificar o modelo vamos escolher as colunas education_num (por já ser numérica e carregar a informação de \"mais anos estudados\"), relationship  e occupation."
   ]
  },
  {
   "cell_type": "markdown",
   "id": "83e4870e",
   "metadata": {},
   "source": [
    "## Classes com elementos superrepresentados\n",
    "\n",
    "Vemos que na coluna 'native_country' 90% dos respondentes tem nacionalidade 'United-States' e além disso, temos 42 categorias diferentes para esta coluna.\n",
    "Por conta disso vamos trocar essa classe por: native-american com 1 indicando que é americano, 0 indicando que não."
   ]
  },
  {
   "cell_type": "code",
   "execution_count": 11,
   "id": "9f40b0d9",
   "metadata": {},
   "outputs": [],
   "source": [
    "data['native_country'] = data['native_country'].astype('category'); mode = data['native_country'].cat.codes.mode();  usa_map = lambda a : True if a == mode[0] else False;\n",
    "native_usa = data['native_country'].cat.codes.map(usa_map); data = data.drop('native_country', axis=1)\n",
    "native_usa_df = pd.DataFrame(data={'native_usa': native_usa})\n",
    "data = pd.concat([data, native_usa_df], axis=1)"
   ]
  },
  {
   "cell_type": "markdown",
   "id": "c1489b22",
   "metadata": {},
   "source": [
    "Com isto podemos criar uma função para limpar todos os dados e mapear os valores inteiros entre 0 a 1 dividindo pelo máximo da coluna e utilizar HotEncoding para os valores categócios"
   ]
  },
  {
   "cell_type": "code",
   "execution_count": 12,
   "id": "5ec73cf9",
   "metadata": {},
   "outputs": [],
   "source": [
    "def clean_dataset(data):\n",
    "    data = data.drop('final_weight', axis=1); data = data.drop('workclass', axis=1); data = data.drop('education', axis=1); data = data.drop('relationship', axis=1) #drops\n",
    "    data['income_class'] = data.income_class.str.rstrip('.').astype('category')\n",
    "    capital_mean = np.mean(data.capital_gain[data.capital_gain != 99999])\n",
    "    data['capital_gain'] = data['capital_gain'].replace(99999, capital_mean)\n",
    "    hours_per_week_mean = np.mean(data.hours_per_week[data.hours_per_week != 99])\n",
    "    data['hours_per_week'] = data['hours_per_week'].replace(99, hours_per_week_mean)\n",
    "    data['occupation'] = data['occupation'].replace('?', 'Prof-specialty')\n",
    "    data['native_country'] = data['native_country'].replace('?', 'United-States')\n",
    "    data['native_country'] = data['native_country'].astype('category')\n",
    "    mode = data['native_country'].cat.codes.mode()\n",
    "    usa_map = lambda a : True if a == mode[0] else False\n",
    "    native_usa = data['native_country'].cat.codes.map(usa_map)\n",
    "    data = data.drop('native_country', axis=1)\n",
    "    data = pd.concat([data, native_usa], axis=1)\n",
    "    data['marital_status'] = data['marital_status'].replace('?', 'Married-civ-spouse')\n",
    "    data['age'] = data['age']/90\n",
    "    data['education_num'] = data['education_num']/16\n",
    "    data['capital_gain'] = data['capital_gain']/41310.0\n",
    "    data['capital_loss'] = data['capital_loss']/4356.0\n",
    "    data['hours_per_week'] = data['hours_per_week']/98\n",
    "    marital_oh = pd.get_dummies(data['marital_status'])\n",
    "    data = data.drop('marital_status', axis=1)\n",
    "    data = pd.concat([data, marital_oh], axis=1)\n",
    "    occupation_oh = pd.get_dummies(data['occupation'])\n",
    "    data = data.drop('occupation', axis=1)\n",
    "    data = pd.concat([data, occupation_oh], axis=1)\n",
    "    race_oh = pd.get_dummies(data['race'])\n",
    "    data = data.drop('race', axis=1)\n",
    "    data = pd.concat([data, race_oh], axis=1)\n",
    "    sex_oh = pd.get_dummies(data['sex'])\n",
    "    data = data.drop('sex',axis=1)\n",
    "    data = pd.concat([data, sex_oh], axis=1)\n",
    "    data = data.drop_duplicates()\n",
    "    y = data['income_class']\n",
    "    data = data.drop('income_class', axis=1)\n",
    "    return data, y\n"
   ]
  },
  {
   "cell_type": "code",
   "execution_count": 13,
   "id": "8571814a",
   "metadata": {},
   "outputs": [],
   "source": [
    "clean_test, clean_output = clean_dataset(test_data)\n",
    "clean_train, train_output = clean_dataset(train_data)"
   ]
  },
  {
   "cell_type": "markdown",
   "id": "5d2ca159",
   "metadata": {},
   "source": [
    "## Construção do kNN\n",
    "Para construir o classificador kNN precisamos definir o hiperparametro n.\n",
    "Para isso vamos utilizar o método k-fold cross validation. A cada etapa iremos avaliar a média dos scores do classificador em cada k-fold.\n"
   ]
  },
  {
   "cell_type": "code",
   "execution_count": 14,
   "id": "dc18733d",
   "metadata": {},
   "outputs": [],
   "source": [
    "from sklearn.model_selection import KFold\n",
    "n = 1\n",
    "n_folds = 5\n",
    "kf = KFold(n_splits=n_folds)\n",
    "mean_acc = []\n",
    "while n < 25:\n",
    "    mse = 0\n",
    "    kf.get_n_splits(clean_train.values)\n",
    "    for i, (train_index, test_index) in enumerate(kf.split(clean_train.values)):\n",
    "        knn = KNeighborsClassifier(n_neighbors=n)\n",
    "        knn.fit(clean_train.values[train_index], train_output.values[train_index])\n",
    "        mse = mse + knn.score(clean_train.values[test_index],\n",
    "                               train_output.values[test_index])\n",
    "    mse = mse / n_folds\n",
    "    mean_acc.append((n, mse))\n",
    "    n = n + 1"
   ]
  },
  {
   "cell_type": "code",
   "execution_count": 15,
   "id": "7284b0d8",
   "metadata": {},
   "outputs": [
    {
     "data": {
      "image/png": "[encoded data removed]",
      "text/plain": [
       "<Figure size 640x480 with 1 Axes>"
      ]
     },
     "metadata": {},
     "output_type": "display_data"
    }
   ],
   "source": [
    "n, acc = zip(*mean_acc)\n",
    "plt.plot(n, acc, marker='o')\n",
    "plt.xlabel('n vizinhos')\n",
    "plt.ylabel('score médio')\n",
    "plt.title(\"Validação cruzada\")\n",
    "plt.rcParams['figure.figsize'] = [3, 2]\n",
    "plt.show()"
   ]
  },
  {
   "cell_type": "markdown",
   "id": "cefd0a3e",
   "metadata": {},
   "source": [
    "Vemos que após 10 vizinhos a melhora da qualidade do score começa a diminuir se mantendo praticamente constante após 15 vizinhos.\n",
    "Estava variação errática pode começar a indicar um \"overfitting\" ao aumentar muito o número de vizinhos buscados.\n",
    "Desta forma iremos adotar n = 15 vizinhos para nosso classificador"
   ]
  },
  {
   "cell_type": "markdown",
   "id": "e18b5ec0",
   "metadata": {},
   "source": [
    "# Análise do classificador construído\n",
    "Para isto vamos apresentar a acurácia, precisão e revocação para o classificador com n = 15 vizinhos.\n",
    "Estas três métricas podem ser extraídas da tabela de confusão do modelo."
   ]
  },
  {
   "cell_type": "code",
   "execution_count": 16,
   "id": "c1b756b1",
   "metadata": {},
   "outputs": [],
   "source": [
    "from sklearn.metrics import confusion_matrix\n",
    "\n",
    "knn = KNeighborsClassifier(n_neighbors=15)\n",
    "knn.fit(clean_train.values, train_output.values)\n",
    "predition = knn.predict(clean_test.values)\n",
    "cm = confusion_matrix(clean_output, predition)"
   ]
  },
  {
   "cell_type": "code",
   "execution_count": 17,
   "id": "6a3a4856",
   "metadata": {},
   "outputs": [
    {
     "name": "stdout",
     "output_type": "stream",
     "text": [
      "Acurácia= 0.8273366274618972 Precisão 0.9130915116921378 Revocação 0.8658227848101265\n"
     ]
    }
   ],
   "source": [
    "acc = (cm[0][0] + cm[1][1])/(cm[0][0] + cm[0][1]+cm[1][0] + cm[1][1]) \n",
    "precision = cm[0][0]/(cm[0][1] + cm[0][0])\n",
    "recall = cm[0][0]/(cm[0][0] + cm[1][0])\n",
    "print(f'Acurácia= {acc} Precisão {precision} Revocação {recall}')"
   ]
  },
  {
   "cell_type": "markdown",
   "id": "ab362f45",
   "metadata": {},
   "source": [
    "# Conclusão\n",
    "Utilizando o tratamento dos dados sugeridos e escolhendo um classificador com 15 vizinhos mais próximos obtivemos uma acurácia de 0.827, precisão de 0.91 e revocação de 0.86.\n",
    "Desta forma mostramos que o filtragem dos dados que realizamos, tanto o tratamento de inconsistências quanto a codificação resultou num classificador bom (Acurácia > 80%) mesmo utilizando um modelo simples (knn)."
   ]
  }
 ],
 "metadata": {
  "kernelspec": {
   "display_name": "Python 3 (ipykernel)",
   "language": "python",
   "name": "python3"
  },
  "language_info": {
   "codemirror_mode": {
    "name": "ipython",
    "version": 3
   },
   "file_extension": ".py",
   "mimetype": "text/x-python",
   "name": "python",
   "nbconvert_exporter": "python",
   "pygments_lexer": "ipython3",
   "version": "3.12.4"
  }
 },
 "nbformat": 4,
 "nbformat_minor": 5
}
